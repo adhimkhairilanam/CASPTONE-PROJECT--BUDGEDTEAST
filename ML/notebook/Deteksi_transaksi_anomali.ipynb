{
  "nbformat": 4,
  "nbformat_minor": 0,
  "metadata": {
    "colab": {
      "provenance": []
    },
    "kernelspec": {
      "name": "python3",
      "display_name": "Python 3"
    },
    "language_info": {
      "name": "python"
    }
  },
  "cells": [
    {
      "cell_type": "code",
      "execution_count": 1,
      "metadata": {
        "id": "nih3lMlm_USE"
      },
      "outputs": [],
      "source": [
        "import pandas as pd\n",
        "from sklearn.ensemble import IsolationForest\n",
        "from sklearn.svm import OneClassSVM\n",
        "from sklearn.preprocessing import StandardScaler, OneHotEncoder\n",
        "from sklearn.compose import ColumnTransformer\n",
        "from sklearn.pipeline import Pipeline\n",
        "import numpy as np\n",
        "import pickle"
      ]
    },
    {
      "cell_type": "markdown",
      "source": [
        "#1. Memuat dan Membersihkan Data"
      ],
      "metadata": {
        "id": "YeDo0NCwD95e"
      }
    },
    {
      "cell_type": "code",
      "source": [
        "df = pd.read_csv('cleaned_data.csv')\n",
        "df.head()"
      ],
      "metadata": {
        "colab": {
          "base_uri": "https://localhost:8080/",
          "height": 504
        },
        "id": "CLNxAkTK_lwh",
        "outputId": "cd59fee5-706e-446c-ff1c-28a8cb89a20f"
      },
      "execution_count": 2,
      "outputs": [
        {
          "output_type": "execute_result",
          "data": {
            "text/plain": [
              "                      date    title       category       account  amount  \\\n",
              "0  2024-08-11 13:56:59.652  Karthik   Bills & Fees  Savings Bank    45.0   \n",
              "1  2024-08-10 16:09:55.986    Juice  Food & Drinks          Cash    40.0   \n",
              "2  2024-08-09 10:25:21.618     Tire      Transport          Cash    10.0   \n",
              "3  2024-08-07 03:57:24.944     Baba   Bills & Fees  Savings Bank   200.0   \n",
              "4  2024-08-04 13:09:08.452   Reward   Bills & Fees   Salary Bank     4.0   \n",
              "\n",
              "  currency     type transfer-amount transfer-currency to-account  \\\n",
              "0      INR  EXPENSE             NaN               NaN        NaN   \n",
              "1      INR  EXPENSE             NaN               NaN        NaN   \n",
              "2      INR  EXPENSE             NaN               NaN        NaN   \n",
              "3      INR  EXPENSE             NaN               NaN        NaN   \n",
              "4      INR   INCOME             NaN               NaN        NaN   \n",
              "\n",
              "  receive-amount receive-currency  description  due-date  \\\n",
              "0            NaN              NaN          NaN       NaN   \n",
              "1            NaN              NaN          NaN       NaN   \n",
              "2            NaN              NaN          NaN       NaN   \n",
              "3            NaN              NaN          NaN       NaN   \n",
              "4            NaN              NaN          NaN       NaN   \n",
              "\n",
              "                                     id  year   month  \n",
              "0  74e78631-db14-4495-bfb9-85546b0bd2fe  2024  August  \n",
              "1  65e12e62-9f63-4c6c-b452-6c7b42fbfb7f  2024  August  \n",
              "2  9ecd93bd-a835-4263-86e2-99fea475fa37  2024  August  \n",
              "3  00d39b2c-e722-485a-85ca-28f6506dc674  2024  August  \n",
              "4  3861d205-3245-4926-ad69-4491b0bff547  2024  August  "
            ],
            "text/html": [
              "\n",
              "  <div id=\"df-e8ce0e35-7d9d-4eba-a3c1-e677358287ef\" class=\"colab-df-container\">\n",
              "    <div>\n",
              "<style scoped>\n",
              "    .dataframe tbody tr th:only-of-type {\n",
              "        vertical-align: middle;\n",
              "    }\n",
              "\n",
              "    .dataframe tbody tr th {\n",
              "        vertical-align: top;\n",
              "    }\n",
              "\n",
              "    .dataframe thead th {\n",
              "        text-align: right;\n",
              "    }\n",
              "</style>\n",
              "<table border=\"1\" class=\"dataframe\">\n",
              "  <thead>\n",
              "    <tr style=\"text-align: right;\">\n",
              "      <th></th>\n",
              "      <th>date</th>\n",
              "      <th>title</th>\n",
              "      <th>category</th>\n",
              "      <th>account</th>\n",
              "      <th>amount</th>\n",
              "      <th>currency</th>\n",
              "      <th>type</th>\n",
              "      <th>transfer-amount</th>\n",
              "      <th>transfer-currency</th>\n",
              "      <th>to-account</th>\n",
              "      <th>receive-amount</th>\n",
              "      <th>receive-currency</th>\n",
              "      <th>description</th>\n",
              "      <th>due-date</th>\n",
              "      <th>id</th>\n",
              "      <th>year</th>\n",
              "      <th>month</th>\n",
              "    </tr>\n",
              "  </thead>\n",
              "  <tbody>\n",
              "    <tr>\n",
              "      <th>0</th>\n",
              "      <td>2024-08-11 13:56:59.652</td>\n",
              "      <td>Karthik</td>\n",
              "      <td>Bills &amp; Fees</td>\n",
              "      <td>Savings Bank</td>\n",
              "      <td>45.0</td>\n",
              "      <td>INR</td>\n",
              "      <td>EXPENSE</td>\n",
              "      <td>NaN</td>\n",
              "      <td>NaN</td>\n",
              "      <td>NaN</td>\n",
              "      <td>NaN</td>\n",
              "      <td>NaN</td>\n",
              "      <td>NaN</td>\n",
              "      <td>NaN</td>\n",
              "      <td>74e78631-db14-4495-bfb9-85546b0bd2fe</td>\n",
              "      <td>2024</td>\n",
              "      <td>August</td>\n",
              "    </tr>\n",
              "    <tr>\n",
              "      <th>1</th>\n",
              "      <td>2024-08-10 16:09:55.986</td>\n",
              "      <td>Juice</td>\n",
              "      <td>Food &amp; Drinks</td>\n",
              "      <td>Cash</td>\n",
              "      <td>40.0</td>\n",
              "      <td>INR</td>\n",
              "      <td>EXPENSE</td>\n",
              "      <td>NaN</td>\n",
              "      <td>NaN</td>\n",
              "      <td>NaN</td>\n",
              "      <td>NaN</td>\n",
              "      <td>NaN</td>\n",
              "      <td>NaN</td>\n",
              "      <td>NaN</td>\n",
              "      <td>65e12e62-9f63-4c6c-b452-6c7b42fbfb7f</td>\n",
              "      <td>2024</td>\n",
              "      <td>August</td>\n",
              "    </tr>\n",
              "    <tr>\n",
              "      <th>2</th>\n",
              "      <td>2024-08-09 10:25:21.618</td>\n",
              "      <td>Tire</td>\n",
              "      <td>Transport</td>\n",
              "      <td>Cash</td>\n",
              "      <td>10.0</td>\n",
              "      <td>INR</td>\n",
              "      <td>EXPENSE</td>\n",
              "      <td>NaN</td>\n",
              "      <td>NaN</td>\n",
              "      <td>NaN</td>\n",
              "      <td>NaN</td>\n",
              "      <td>NaN</td>\n",
              "      <td>NaN</td>\n",
              "      <td>NaN</td>\n",
              "      <td>9ecd93bd-a835-4263-86e2-99fea475fa37</td>\n",
              "      <td>2024</td>\n",
              "      <td>August</td>\n",
              "    </tr>\n",
              "    <tr>\n",
              "      <th>3</th>\n",
              "      <td>2024-08-07 03:57:24.944</td>\n",
              "      <td>Baba</td>\n",
              "      <td>Bills &amp; Fees</td>\n",
              "      <td>Savings Bank</td>\n",
              "      <td>200.0</td>\n",
              "      <td>INR</td>\n",
              "      <td>EXPENSE</td>\n",
              "      <td>NaN</td>\n",
              "      <td>NaN</td>\n",
              "      <td>NaN</td>\n",
              "      <td>NaN</td>\n",
              "      <td>NaN</td>\n",
              "      <td>NaN</td>\n",
              "      <td>NaN</td>\n",
              "      <td>00d39b2c-e722-485a-85ca-28f6506dc674</td>\n",
              "      <td>2024</td>\n",
              "      <td>August</td>\n",
              "    </tr>\n",
              "    <tr>\n",
              "      <th>4</th>\n",
              "      <td>2024-08-04 13:09:08.452</td>\n",
              "      <td>Reward</td>\n",
              "      <td>Bills &amp; Fees</td>\n",
              "      <td>Salary Bank</td>\n",
              "      <td>4.0</td>\n",
              "      <td>INR</td>\n",
              "      <td>INCOME</td>\n",
              "      <td>NaN</td>\n",
              "      <td>NaN</td>\n",
              "      <td>NaN</td>\n",
              "      <td>NaN</td>\n",
              "      <td>NaN</td>\n",
              "      <td>NaN</td>\n",
              "      <td>NaN</td>\n",
              "      <td>3861d205-3245-4926-ad69-4491b0bff547</td>\n",
              "      <td>2024</td>\n",
              "      <td>August</td>\n",
              "    </tr>\n",
              "  </tbody>\n",
              "</table>\n",
              "</div>\n",
              "    <div class=\"colab-df-buttons\">\n",
              "\n",
              "  <div class=\"colab-df-container\">\n",
              "    <button class=\"colab-df-convert\" onclick=\"convertToInteractive('df-e8ce0e35-7d9d-4eba-a3c1-e677358287ef')\"\n",
              "            title=\"Convert this dataframe to an interactive table.\"\n",
              "            style=\"display:none;\">\n",
              "\n",
              "  <svg xmlns=\"http://www.w3.org/2000/svg\" height=\"24px\" viewBox=\"0 -960 960 960\">\n",
              "    <path d=\"M120-120v-720h720v720H120Zm60-500h600v-160H180v160Zm220 220h160v-160H400v160Zm0 220h160v-160H400v160ZM180-400h160v-160H180v160Zm440 0h160v-160H620v160ZM180-180h160v-160H180v160Zm440 0h160v-160H620v160Z\"/>\n",
              "  </svg>\n",
              "    </button>\n",
              "\n",
              "  <style>\n",
              "    .colab-df-container {\n",
              "      display:flex;\n",
              "      gap: 12px;\n",
              "    }\n",
              "\n",
              "    .colab-df-convert {\n",
              "      background-color: #E8F0FE;\n",
              "      border: none;\n",
              "      border-radius: 50%;\n",
              "      cursor: pointer;\n",
              "      display: none;\n",
              "      fill: #1967D2;\n",
              "      height: 32px;\n",
              "      padding: 0 0 0 0;\n",
              "      width: 32px;\n",
              "    }\n",
              "\n",
              "    .colab-df-convert:hover {\n",
              "      background-color: #E2EBFA;\n",
              "      box-shadow: 0px 1px 2px rgba(60, 64, 67, 0.3), 0px 1px 3px 1px rgba(60, 64, 67, 0.15);\n",
              "      fill: #174EA6;\n",
              "    }\n",
              "\n",
              "    .colab-df-buttons div {\n",
              "      margin-bottom: 4px;\n",
              "    }\n",
              "\n",
              "    [theme=dark] .colab-df-convert {\n",
              "      background-color: #3B4455;\n",
              "      fill: #D2E3FC;\n",
              "    }\n",
              "\n",
              "    [theme=dark] .colab-df-convert:hover {\n",
              "      background-color: #434B5C;\n",
              "      box-shadow: 0px 1px 3px 1px rgba(0, 0, 0, 0.15);\n",
              "      filter: drop-shadow(0px 1px 2px rgba(0, 0, 0, 0.3));\n",
              "      fill: #FFFFFF;\n",
              "    }\n",
              "  </style>\n",
              "\n",
              "    <script>\n",
              "      const buttonEl =\n",
              "        document.querySelector('#df-e8ce0e35-7d9d-4eba-a3c1-e677358287ef button.colab-df-convert');\n",
              "      buttonEl.style.display =\n",
              "        google.colab.kernel.accessAllowed ? 'block' : 'none';\n",
              "\n",
              "      async function convertToInteractive(key) {\n",
              "        const element = document.querySelector('#df-e8ce0e35-7d9d-4eba-a3c1-e677358287ef');\n",
              "        const dataTable =\n",
              "          await google.colab.kernel.invokeFunction('convertToInteractive',\n",
              "                                                    [key], {});\n",
              "        if (!dataTable) return;\n",
              "\n",
              "        const docLinkHtml = 'Like what you see? Visit the ' +\n",
              "          '<a target=\"_blank\" href=https://colab.research.google.com/notebooks/data_table.ipynb>data table notebook</a>'\n",
              "          + ' to learn more about interactive tables.';\n",
              "        element.innerHTML = '';\n",
              "        dataTable['output_type'] = 'display_data';\n",
              "        await google.colab.output.renderOutput(dataTable, element);\n",
              "        const docLink = document.createElement('div');\n",
              "        docLink.innerHTML = docLinkHtml;\n",
              "        element.appendChild(docLink);\n",
              "      }\n",
              "    </script>\n",
              "  </div>\n",
              "\n",
              "\n",
              "    <div id=\"df-e38071aa-a902-4076-93a2-aa1c3ac2835d\">\n",
              "      <button class=\"colab-df-quickchart\" onclick=\"quickchart('df-e38071aa-a902-4076-93a2-aa1c3ac2835d')\"\n",
              "                title=\"Suggest charts\"\n",
              "                style=\"display:none;\">\n",
              "\n",
              "<svg xmlns=\"http://www.w3.org/2000/svg\" height=\"24px\"viewBox=\"0 0 24 24\"\n",
              "     width=\"24px\">\n",
              "    <g>\n",
              "        <path d=\"M19 3H5c-1.1 0-2 .9-2 2v14c0 1.1.9 2 2 2h14c1.1 0 2-.9 2-2V5c0-1.1-.9-2-2-2zM9 17H7v-7h2v7zm4 0h-2V7h2v10zm4 0h-2v-4h2v4z\"/>\n",
              "    </g>\n",
              "</svg>\n",
              "      </button>\n",
              "\n",
              "<style>\n",
              "  .colab-df-quickchart {\n",
              "      --bg-color: #E8F0FE;\n",
              "      --fill-color: #1967D2;\n",
              "      --hover-bg-color: #E2EBFA;\n",
              "      --hover-fill-color: #174EA6;\n",
              "      --disabled-fill-color: #AAA;\n",
              "      --disabled-bg-color: #DDD;\n",
              "  }\n",
              "\n",
              "  [theme=dark] .colab-df-quickchart {\n",
              "      --bg-color: #3B4455;\n",
              "      --fill-color: #D2E3FC;\n",
              "      --hover-bg-color: #434B5C;\n",
              "      --hover-fill-color: #FFFFFF;\n",
              "      --disabled-bg-color: #3B4455;\n",
              "      --disabled-fill-color: #666;\n",
              "  }\n",
              "\n",
              "  .colab-df-quickchart {\n",
              "    background-color: var(--bg-color);\n",
              "    border: none;\n",
              "    border-radius: 50%;\n",
              "    cursor: pointer;\n",
              "    display: none;\n",
              "    fill: var(--fill-color);\n",
              "    height: 32px;\n",
              "    padding: 0;\n",
              "    width: 32px;\n",
              "  }\n",
              "\n",
              "  .colab-df-quickchart:hover {\n",
              "    background-color: var(--hover-bg-color);\n",
              "    box-shadow: 0 1px 2px rgba(60, 64, 67, 0.3), 0 1px 3px 1px rgba(60, 64, 67, 0.15);\n",
              "    fill: var(--button-hover-fill-color);\n",
              "  }\n",
              "\n",
              "  .colab-df-quickchart-complete:disabled,\n",
              "  .colab-df-quickchart-complete:disabled:hover {\n",
              "    background-color: var(--disabled-bg-color);\n",
              "    fill: var(--disabled-fill-color);\n",
              "    box-shadow: none;\n",
              "  }\n",
              "\n",
              "  .colab-df-spinner {\n",
              "    border: 2px solid var(--fill-color);\n",
              "    border-color: transparent;\n",
              "    border-bottom-color: var(--fill-color);\n",
              "    animation:\n",
              "      spin 1s steps(1) infinite;\n",
              "  }\n",
              "\n",
              "  @keyframes spin {\n",
              "    0% {\n",
              "      border-color: transparent;\n",
              "      border-bottom-color: var(--fill-color);\n",
              "      border-left-color: var(--fill-color);\n",
              "    }\n",
              "    20% {\n",
              "      border-color: transparent;\n",
              "      border-left-color: var(--fill-color);\n",
              "      border-top-color: var(--fill-color);\n",
              "    }\n",
              "    30% {\n",
              "      border-color: transparent;\n",
              "      border-left-color: var(--fill-color);\n",
              "      border-top-color: var(--fill-color);\n",
              "      border-right-color: var(--fill-color);\n",
              "    }\n",
              "    40% {\n",
              "      border-color: transparent;\n",
              "      border-right-color: var(--fill-color);\n",
              "      border-top-color: var(--fill-color);\n",
              "    }\n",
              "    60% {\n",
              "      border-color: transparent;\n",
              "      border-right-color: var(--fill-color);\n",
              "    }\n",
              "    80% {\n",
              "      border-color: transparent;\n",
              "      border-right-color: var(--fill-color);\n",
              "      border-bottom-color: var(--fill-color);\n",
              "    }\n",
              "    90% {\n",
              "      border-color: transparent;\n",
              "      border-bottom-color: var(--fill-color);\n",
              "    }\n",
              "  }\n",
              "</style>\n",
              "\n",
              "      <script>\n",
              "        async function quickchart(key) {\n",
              "          const quickchartButtonEl =\n",
              "            document.querySelector('#' + key + ' button');\n",
              "          quickchartButtonEl.disabled = true;  // To prevent multiple clicks.\n",
              "          quickchartButtonEl.classList.add('colab-df-spinner');\n",
              "          try {\n",
              "            const charts = await google.colab.kernel.invokeFunction(\n",
              "                'suggestCharts', [key], {});\n",
              "          } catch (error) {\n",
              "            console.error('Error during call to suggestCharts:', error);\n",
              "          }\n",
              "          quickchartButtonEl.classList.remove('colab-df-spinner');\n",
              "          quickchartButtonEl.classList.add('colab-df-quickchart-complete');\n",
              "        }\n",
              "        (() => {\n",
              "          let quickchartButtonEl =\n",
              "            document.querySelector('#df-e38071aa-a902-4076-93a2-aa1c3ac2835d button');\n",
              "          quickchartButtonEl.style.display =\n",
              "            google.colab.kernel.accessAllowed ? 'block' : 'none';\n",
              "        })();\n",
              "      </script>\n",
              "    </div>\n",
              "\n",
              "    </div>\n",
              "  </div>\n"
            ],
            "application/vnd.google.colaboratory.intrinsic+json": {
              "type": "dataframe",
              "variable_name": "df",
              "summary": "{\n  \"name\": \"df\",\n  \"rows\": 941,\n  \"fields\": [\n    {\n      \"column\": \"date\",\n      \"properties\": {\n        \"dtype\": \"object\",\n        \"num_unique_values\": 891,\n        \"samples\": [\n          \"2023-09-15 07:06:00.000\",\n          \"2024-01-20 04:26:59.396\",\n          \"2023-05-07 18:26:42.987\"\n        ],\n        \"semantic_type\": \"\",\n        \"description\": \"\"\n      }\n    },\n    {\n      \"column\": \"title\",\n      \"properties\": {\n        \"dtype\": \"category\",\n        \"num_unique_values\": 169,\n        \"samples\": [\n          \"Egg roll \\ud83c\\udf2f\",\n          \"Withdraw\",\n          \"Gpay\"\n        ],\n        \"semantic_type\": \"\",\n        \"description\": \"\"\n      }\n    },\n    {\n      \"column\": \"category\",\n      \"properties\": {\n        \"dtype\": \"category\",\n        \"num_unique_values\": 3,\n        \"samples\": [\n          \"Bills & Fees\",\n          \"Food & Drinks\",\n          \"Transport\"\n        ],\n        \"semantic_type\": \"\",\n        \"description\": \"\"\n      }\n    },\n    {\n      \"column\": \"account\",\n      \"properties\": {\n        \"dtype\": \"category\",\n        \"num_unique_values\": 4,\n        \"samples\": [\n          \"Cash\",\n          \"Metro Card\",\n          \"Savings Bank\"\n        ],\n        \"semantic_type\": \"\",\n        \"description\": \"\"\n      }\n    },\n    {\n      \"column\": \"amount\",\n      \"properties\": {\n        \"dtype\": \"number\",\n        \"std\": 147.2219396769093,\n        \"min\": 0.0,\n        \"max\": 999.0,\n        \"num_unique_values\": 124,\n        \"samples\": [\n          13.0,\n          35.0,\n          208.5\n        ],\n        \"semantic_type\": \"\",\n        \"description\": \"\"\n      }\n    },\n    {\n      \"column\": \"currency\",\n      \"properties\": {\n        \"dtype\": \"category\",\n        \"num_unique_values\": 1,\n        \"samples\": [\n          \"INR\"\n        ],\n        \"semantic_type\": \"\",\n        \"description\": \"\"\n      }\n    },\n    {\n      \"column\": \"type\",\n      \"properties\": {\n        \"dtype\": \"category\",\n        \"num_unique_values\": 3,\n        \"samples\": [\n          \"EXPENSE\"\n        ],\n        \"semantic_type\": \"\",\n        \"description\": \"\"\n      }\n    },\n    {\n      \"column\": \"transfer-amount\",\n      \"properties\": {\n        \"dtype\": \"category\",\n        \"num_unique_values\": 5,\n        \"samples\": [\n          \"1,500.00\"\n        ],\n        \"semantic_type\": \"\",\n        \"description\": \"\"\n      }\n    },\n    {\n      \"column\": \"transfer-currency\",\n      \"properties\": {\n        \"dtype\": \"category\",\n        \"num_unique_values\": 1,\n        \"samples\": [\n          \"INR\"\n        ],\n        \"semantic_type\": \"\",\n        \"description\": \"\"\n      }\n    },\n    {\n      \"column\": \"to-account\",\n      \"properties\": {\n        \"dtype\": \"category\",\n        \"num_unique_values\": 3,\n        \"samples\": [\n          \"Cash\"\n        ],\n        \"semantic_type\": \"\",\n        \"description\": \"\"\n      }\n    },\n    {\n      \"column\": \"receive-amount\",\n      \"properties\": {\n        \"dtype\": \"category\",\n        \"num_unique_values\": 5,\n        \"samples\": [\n          \"1,500.00\"\n        ],\n        \"semantic_type\": \"\",\n        \"description\": \"\"\n      }\n    },\n    {\n      \"column\": \"receive-currency\",\n      \"properties\": {\n        \"dtype\": \"category\",\n        \"num_unique_values\": 1,\n        \"samples\": [\n          \"INR\"\n        ],\n        \"semantic_type\": \"\",\n        \"description\": \"\"\n      }\n    },\n    {\n      \"column\": \"description\",\n      \"properties\": {\n        \"dtype\": \"number\",\n        \"std\": null,\n        \"min\": 8500264412.0,\n        \"max\": 8500264412.0,\n        \"num_unique_values\": 1,\n        \"samples\": [\n          8500264412.0\n        ],\n        \"semantic_type\": \"\",\n        \"description\": \"\"\n      }\n    },\n    {\n      \"column\": \"due-date\",\n      \"properties\": {\n        \"dtype\": \"number\",\n        \"std\": null,\n        \"min\": null,\n        \"max\": null,\n        \"num_unique_values\": 0,\n        \"samples\": [],\n        \"semantic_type\": \"\",\n        \"description\": \"\"\n      }\n    },\n    {\n      \"column\": \"id\",\n      \"properties\": {\n        \"dtype\": \"string\",\n        \"num_unique_values\": 941,\n        \"samples\": [],\n        \"semantic_type\": \"\",\n        \"description\": \"\"\n      }\n    },\n    {\n      \"column\": \"year\",\n      \"properties\": {\n        \"dtype\": \"number\",\n        \"std\": 0,\n        \"min\": 2023,\n        \"max\": 2024,\n        \"num_unique_values\": 2,\n        \"samples\": [],\n        \"semantic_type\": \"\",\n        \"description\": \"\"\n      }\n    },\n    {\n      \"column\": \"month\",\n      \"properties\": {\n        \"dtype\": \"category\",\n        \"num_unique_values\": 12,\n        \"samples\": [],\n        \"semantic_type\": \"\",\n        \"description\": \"\"\n      }\n    }\n  ]\n}"
            }
          },
          "metadata": {},
          "execution_count": 2
        }
      ]
    },
    {
      "cell_type": "code",
      "source": [
        "df['date'] = pd.to_datetime(df['date'], errors='coerce')"
      ],
      "metadata": {
        "id": "1FZYpHhg_lt1"
      },
      "execution_count": 3,
      "outputs": []
    },
    {
      "cell_type": "code",
      "source": [
        "initial_rows = len(df)\n",
        "df.dropna(subset=['date', 'category', 'account', 'type', 'amount'], inplace=True)\n",
        "df['title'].fillna('Unknown', inplace=True)\n",
        "print(f\"Membersihkan data: {initial_rows - len(df)} baris dihapus karena data tidak lengkap.\")"
      ],
      "metadata": {
        "colab": {
          "base_uri": "https://localhost:8080/"
        },
        "id": "4ZfsyxQGABqG",
        "outputId": "4c0329e0-7c02-4052-8876-51bf86abcdb7"
      },
      "execution_count": 4,
      "outputs": [
        {
          "output_type": "stream",
          "name": "stdout",
          "text": [
            "Membersihkan data: 0 baris dihapus karena data tidak lengkap.\n"
          ]
        },
        {
          "output_type": "stream",
          "name": "stderr",
          "text": [
            "<ipython-input-4-1721098500>:3: FutureWarning: A value is trying to be set on a copy of a DataFrame or Series through chained assignment using an inplace method.\n",
            "The behavior will change in pandas 3.0. This inplace method will never work because the intermediate object on which we are setting values always behaves as a copy.\n",
            "\n",
            "For example, when doing 'df[col].method(value, inplace=True)', try using 'df.method({col: value}, inplace=True)' or df[col] = df[col].method(value) instead, to perform the operation inplace on the original object.\n",
            "\n",
            "\n",
            "  df['title'].fillna('Unknown', inplace=True)\n"
          ]
        }
      ]
    },
    {
      "cell_type": "markdown",
      "source": [
        "#2. Feature Engineering"
      ],
      "metadata": {
        "id": "bzaTGg4EAJcR"
      }
    },
    {
      "cell_type": "code",
      "source": [
        "df['hour'] = df['date'].dt.hour\n",
        "df['day_of_week'] = df['date'].dt.dayofweek  # Senin=0, Minggu=6\n",
        "df['day_of_month'] = df['date'].dt.day"
      ],
      "metadata": {
        "id": "SWflr7hDAI-l"
      },
      "execution_count": 5,
      "outputs": []
    },
    {
      "cell_type": "code",
      "source": [
        "df['daily_account_frequency'] = df.groupby([df['date'].dt.date, 'account'])['date'].transform('count')\n",
        "print(\"Fitur baru (jam, hari, frekuensi) telah dibuat.\")"
      ],
      "metadata": {
        "colab": {
          "base_uri": "https://localhost:8080/"
        },
        "id": "WIqGr2aVAQqM",
        "outputId": "6d5ab6f2-59ba-45fb-c1d3-48cdc0a03746"
      },
      "execution_count": 6,
      "outputs": [
        {
          "output_type": "stream",
          "name": "stdout",
          "text": [
            "Fitur baru (jam, hari, frekuensi) telah dibuat.\n"
          ]
        }
      ]
    },
    {
      "cell_type": "markdown",
      "source": [
        "#3. Pra-pemrosesan Data"
      ],
      "metadata": {
        "id": "22L8hcnTAW8I"
      }
    },
    {
      "cell_type": "code",
      "source": [
        "numerical_features = ['amount', 'hour', 'day_of_week', 'day_of_month', 'daily_account_frequency']\n",
        "categorical_features = ['category', 'account', 'type']\n",
        "\n",
        "print(f\"Fitur numerik yang digunakan: {numerical_features}\")\n",
        "print(f\"Fitur kategorikal yang digunakan: {categorical_features}\")"
      ],
      "metadata": {
        "colab": {
          "base_uri": "https://localhost:8080/"
        },
        "id": "BifJTYlfASy0",
        "outputId": "79442d98-76c2-48a1-ce41-d78b6b2d7e4e"
      },
      "execution_count": 7,
      "outputs": [
        {
          "output_type": "stream",
          "name": "stdout",
          "text": [
            "Fitur numerik yang digunakan: ['amount', 'hour', 'day_of_week', 'day_of_month', 'daily_account_frequency']\n",
            "Fitur kategorikal yang digunakan: ['category', 'account', 'type']\n"
          ]
        }
      ]
    },
    {
      "cell_type": "code",
      "source": [
        "preprocessor = ColumnTransformer(\n",
        "    transformers=[\n",
        "        ('num', StandardScaler(), numerical_features),\n",
        "        ('cat', OneHotEncoder(handle_unknown='ignore'), categorical_features)\n",
        "    ],\n",
        "    remainder='drop'\n",
        ")"
      ],
      "metadata": {
        "id": "NHQuH-ouAbZq"
      },
      "execution_count": 14,
      "outputs": []
    },
    {
      "cell_type": "markdown",
      "source": [
        "#4. Pelatihan Model Deteksi Anomali"
      ],
      "metadata": {
        "id": "-2rrrIjuAitc"
      }
    },
    {
      "cell_type": "markdown",
      "source": [
        "**a. Isolation Forest**"
      ],
      "metadata": {
        "id": "gTfEN4aJAmOP"
      }
    },
    {
      "cell_type": "code",
      "source": [
        "print(\"\\n--- Melatih Model Isolation Forest ---\")\n",
        "iso_forest_pipeline = Pipeline(steps=[\n",
        "    ('preprocessor', preprocessor),\n",
        "    ('classifier', IsolationForest(contamination='auto', random_state=42))\n",
        "])\n",
        "iso_forest_pipeline.fit(df)\n",
        "\n",
        "df['iso_forest_anomaly'] = iso_forest_pipeline.predict(df)\n",
        "print(\"Model Isolation Forest selesai dilatih.\")"
      ],
      "metadata": {
        "colab": {
          "base_uri": "https://localhost:8080/"
        },
        "id": "YgTA2GE1AenA",
        "outputId": "dde74f36-0168-4f2e-adb7-b17ae5260999"
      },
      "execution_count": 9,
      "outputs": [
        {
          "output_type": "stream",
          "name": "stdout",
          "text": [
            "\n",
            "--- Melatih Model Isolation Forest ---\n",
            "Model Isolation Forest selesai dilatih.\n"
          ]
        }
      ]
    },
    {
      "cell_type": "markdown",
      "source": [
        "**b. One-Class SVM (Sebagai Alternatif)**"
      ],
      "metadata": {
        "id": "pXIY9m8XAuvF"
      }
    },
    {
      "cell_type": "code",
      "source": [
        "print(\"\\n--- Melatih Model One-Class SVM ---\")\n",
        "svm_pipeline = Pipeline(steps=[\n",
        "    ('preprocessor', preprocessor),\n",
        "    ('classifier', OneClassSVM(nu=0.05, kernel='rbf', gamma='auto'))\n",
        "])\n",
        "svm_pipeline.fit(df)\n",
        "\n",
        "df['svm_anomaly'] = svm_pipeline.predict(df)\n",
        "print(\"Model One-Class SVM selesai dilatih.\")"
      ],
      "metadata": {
        "colab": {
          "base_uri": "https://localhost:8080/"
        },
        "id": "3MfvbUdzAlib",
        "outputId": "0dd648f0-75a1-49b2-9870-177fbc707515"
      },
      "execution_count": 13,
      "outputs": [
        {
          "output_type": "stream",
          "name": "stdout",
          "text": [
            "\n",
            "--- Melatih Model One-Class SVM ---\n",
            "Model One-Class SVM selesai dilatih.\n"
          ]
        }
      ]
    },
    {
      "cell_type": "markdown",
      "source": [
        "#5. Analisis Hasil"
      ],
      "metadata": {
        "id": "K13reUryA3Iu"
      }
    },
    {
      "cell_type": "code",
      "source": [
        "print(\"\\n--- Ringkasan Hasil Deteksi Anomali ---\")\n",
        "\n",
        "iso_anomalies_count = (df['iso_forest_anomaly'] == -1).sum()\n",
        "svm_anomalies_count = (df['svm_anomaly'] == -1).sum()\n",
        "print(f\"Isolation Forest mendeteksi: {iso_anomalies_count} anomali.\")\n",
        "print(f\"One-Class SVM mendeteksi: {svm_anomalies_count} anomali.\")\n",
        "\n",
        "print(\"\\n--- Contoh Anomali Terdeteksi oleh Isolation Forest (diurutkan berdasarkan jumlah) ---\")\n",
        "iso_anomalies_df = df[df['iso_forest_anomaly'] == -1].sort_values(by='amount', ascending=False)\n",
        "print(iso_anomalies_df[['date', 'title', 'category', 'amount', 'type', 'account']].head())\n",
        "\n",
        "print(\"\\n--- Contoh Anomali Terdeteksi oleh One-Class SVM (diurutkan berdasarkan jumlah) ---\")\n",
        "svm_anomalies_df = df[df['svm_anomaly'] == -1].sort_values(by='amount', ascending=False)\n",
        "print(svm_anomalies_df[['date', 'title', 'category', 'amount', 'type', 'account']].head())"
      ],
      "metadata": {
        "colab": {
          "base_uri": "https://localhost:8080/"
        },
        "id": "yLTwGQLGAuP9",
        "outputId": "11b9dc47-fcb0-4ff5-cdfe-d3fd6b500fdb"
      },
      "execution_count": 11,
      "outputs": [
        {
          "output_type": "stream",
          "name": "stdout",
          "text": [
            "\n",
            "--- Ringkasan Hasil Deteksi Anomali ---\n",
            "Isolation Forest mendeteksi: 389 anomali.\n",
            "One-Class SVM mendeteksi: 47 anomali.\n",
            "\n",
            "--- Contoh Anomali Terdeteksi oleh Isolation Forest (diurutkan berdasarkan jumlah) ---\n",
            "                       date          title      category  amount     type  \\\n",
            "436 2024-02-08 05:00:00.000          Shirt  Bills & Fees   999.0  EXPENSE   \n",
            "433 2024-02-09 13:17:00.000          Pants  Bills & Fees   998.0  EXPENSE   \n",
            "444 2024-02-03 15:15:18.470  Baba birthday  Bills & Fees   839.0  EXPENSE   \n",
            "839 2023-06-07 15:19:49.292      Exam fees  Bills & Fees   800.0  EXPENSE   \n",
            "618 2023-11-25 14:23:29.453      Exam fees  Bills & Fees   800.0  EXPENSE   \n",
            "\n",
            "          account  \n",
            "436  Savings Bank  \n",
            "433  Savings Bank  \n",
            "444  Savings Bank  \n",
            "839  Savings Bank  \n",
            "618  Savings Bank  \n",
            "\n",
            "--- Contoh Anomali Terdeteksi oleh One-Class SVM (diurutkan berdasarkan jumlah) ---\n",
            "                       date          title      category  amount     type  \\\n",
            "436 2024-02-08 05:00:00.000          Shirt  Bills & Fees   999.0  EXPENSE   \n",
            "433 2024-02-09 13:17:00.000          Pants  Bills & Fees   998.0  EXPENSE   \n",
            "444 2024-02-03 15:15:18.470  Baba birthday  Bills & Fees   839.0  EXPENSE   \n",
            "618 2023-11-25 14:23:29.453      Exam fees  Bills & Fees   800.0  EXPENSE   \n",
            "81  2024-06-09 05:24:00.000        Clothes  Bills & Fees   799.0  EXPENSE   \n",
            "\n",
            "          account  \n",
            "436  Savings Bank  \n",
            "433  Savings Bank  \n",
            "444  Savings Bank  \n",
            "618  Savings Bank  \n",
            "81    Salary Bank  \n"
          ]
        }
      ]
    },
    {
      "cell_type": "code",
      "source": [
        "#Menyimpan model yang sudah dilatih ke file .pkl\n",
        "output_model_iso = 'isolation_forest_model.pkl'\n",
        "with open(output_model_iso, 'wb') as file:\n",
        "    pickle.dump(iso_forest_pipeline, file)\n",
        "print(f\"Model Isolation Forest telah disimpan ke file '{output_model_iso}'\")\n",
        "\n",
        "output_model_svm = 'one_class_svm_model.pkl'\n",
        "with open(output_model_svm, 'wb') as file:\n",
        "    pickle.dump(svm_pipeline, file)\n",
        "print(f\"Model One-Class SVM telah disimpan ke file '{output_model_svm}'\")\n",
        "\n",
        "print(\"\\nProses selesai.\")"
      ],
      "metadata": {
        "colab": {
          "base_uri": "https://localhost:8080/"
        },
        "id": "S-kvKH1NA2s7",
        "outputId": "359e88ef-c650-4f75-dbee-79b8a1449832"
      },
      "execution_count": 12,
      "outputs": [
        {
          "output_type": "stream",
          "name": "stdout",
          "text": [
            "Model Isolation Forest telah disimpan ke file 'isolation_forest_model.pkl'\n",
            "Model One-Class SVM telah disimpan ke file 'one_class_svm_model.pkl'\n",
            "\n",
            "Proses selesai.\n"
          ]
        }
      ]
    }
  ]
}